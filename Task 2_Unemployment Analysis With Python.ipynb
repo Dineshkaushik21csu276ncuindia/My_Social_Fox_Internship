{
 "cells": [
  {
   "cell_type": "markdown",
   "id": "7562e1c4",
   "metadata": {},
   "source": [
    "# Task 2 : Unemployment Analysis With Python\n",
    "\n",
    "Unemployment is measured by the unemployment rate which is the number of people\n",
    "who are unemployed as a percentage of the total labour force. We have seen a sharp\n",
    "increase in the unemployment rate during Covid-19.\n",
    "\n",
    "Unemployment, as measured by the unemployment rate, reflects the proportion of unemployed individuals in the total labor force. The Covid-19 pandemic brought about a significant surge in unemployment rates, making the analysis of this data an essential data science project.We will explore the task of analyzing unemployment using Python, aiming to gain insights into the repercussions of the pandemic on employment trends."
   ]
  },
  {
   "cell_type": "code",
   "execution_count": 1,
   "id": "74e28a41",
   "metadata": {},
   "outputs": [],
   "source": [
    "import pandas as pd\n",
    "import numpy as np\n",
    "import matplotlib.pyplot as plt\n",
    "import seaborn as sns\n",
    "import plotly.express as px"
   ]
  },
  {
   "cell_type": "code",
   "execution_count": 2,
   "id": "46cb7d93",
   "metadata": {},
   "outputs": [],
   "source": [
    "#Read dataset from CSV \n",
    "data=pd.read_csv(\"D:\\\\internship data\\\\attachments\\\\Unemployment_Rate_upto_11_2020.csv\")"
   ]
  },
  {
   "cell_type": "code",
   "execution_count": 3,
   "id": "ae959e48",
   "metadata": {},
   "outputs": [
    {
     "data": {
      "text/html": [
       "<div>\n",
       "<style scoped>\n",
       "    .dataframe tbody tr th:only-of-type {\n",
       "        vertical-align: middle;\n",
       "    }\n",
       "\n",
       "    .dataframe tbody tr th {\n",
       "        vertical-align: top;\n",
       "    }\n",
       "\n",
       "    .dataframe thead th {\n",
       "        text-align: right;\n",
       "    }\n",
       "</style>\n",
       "<table border=\"1\" class=\"dataframe\">\n",
       "  <thead>\n",
       "    <tr style=\"text-align: right;\">\n",
       "      <th></th>\n",
       "      <th>Region</th>\n",
       "      <th>Date</th>\n",
       "      <th>Frequency</th>\n",
       "      <th>Estimated Unemployment Rate (%)</th>\n",
       "      <th>Estimated Employed</th>\n",
       "      <th>Estimated Labour Participation Rate (%)</th>\n",
       "      <th>Region.1</th>\n",
       "      <th>longitude</th>\n",
       "      <th>latitude</th>\n",
       "    </tr>\n",
       "  </thead>\n",
       "  <tbody>\n",
       "    <tr>\n",
       "      <th>0</th>\n",
       "      <td>Andhra Pradesh</td>\n",
       "      <td>31-01-2020</td>\n",
       "      <td>M</td>\n",
       "      <td>5.48</td>\n",
       "      <td>16635535</td>\n",
       "      <td>41.02</td>\n",
       "      <td>South</td>\n",
       "      <td>15.9129</td>\n",
       "      <td>79.74</td>\n",
       "    </tr>\n",
       "    <tr>\n",
       "      <th>1</th>\n",
       "      <td>Andhra Pradesh</td>\n",
       "      <td>29-02-2020</td>\n",
       "      <td>M</td>\n",
       "      <td>5.83</td>\n",
       "      <td>16545652</td>\n",
       "      <td>40.90</td>\n",
       "      <td>South</td>\n",
       "      <td>15.9129</td>\n",
       "      <td>79.74</td>\n",
       "    </tr>\n",
       "    <tr>\n",
       "      <th>2</th>\n",
       "      <td>Andhra Pradesh</td>\n",
       "      <td>31-03-2020</td>\n",
       "      <td>M</td>\n",
       "      <td>5.79</td>\n",
       "      <td>15881197</td>\n",
       "      <td>39.18</td>\n",
       "      <td>South</td>\n",
       "      <td>15.9129</td>\n",
       "      <td>79.74</td>\n",
       "    </tr>\n",
       "    <tr>\n",
       "      <th>3</th>\n",
       "      <td>Andhra Pradesh</td>\n",
       "      <td>30-04-2020</td>\n",
       "      <td>M</td>\n",
       "      <td>20.51</td>\n",
       "      <td>11336911</td>\n",
       "      <td>33.10</td>\n",
       "      <td>South</td>\n",
       "      <td>15.9129</td>\n",
       "      <td>79.74</td>\n",
       "    </tr>\n",
       "    <tr>\n",
       "      <th>4</th>\n",
       "      <td>Andhra Pradesh</td>\n",
       "      <td>31-05-2020</td>\n",
       "      <td>M</td>\n",
       "      <td>17.43</td>\n",
       "      <td>12988845</td>\n",
       "      <td>36.46</td>\n",
       "      <td>South</td>\n",
       "      <td>15.9129</td>\n",
       "      <td>79.74</td>\n",
       "    </tr>\n",
       "  </tbody>\n",
       "</table>\n",
       "</div>"
      ],
      "text/plain": [
       "           Region         Date  Frequency   Estimated Unemployment Rate (%)  \\\n",
       "0  Andhra Pradesh   31-01-2020          M                              5.48   \n",
       "1  Andhra Pradesh   29-02-2020          M                              5.83   \n",
       "2  Andhra Pradesh   31-03-2020          M                              5.79   \n",
       "3  Andhra Pradesh   30-04-2020          M                             20.51   \n",
       "4  Andhra Pradesh   31-05-2020          M                             17.43   \n",
       "\n",
       "    Estimated Employed   Estimated Labour Participation Rate (%) Region.1  \\\n",
       "0             16635535                                     41.02    South   \n",
       "1             16545652                                     40.90    South   \n",
       "2             15881197                                     39.18    South   \n",
       "3             11336911                                     33.10    South   \n",
       "4             12988845                                     36.46    South   \n",
       "\n",
       "   longitude  latitude  \n",
       "0    15.9129     79.74  \n",
       "1    15.9129     79.74  \n",
       "2    15.9129     79.74  \n",
       "3    15.9129     79.74  \n",
       "4    15.9129     79.74  "
      ]
     },
     "execution_count": 3,
     "metadata": {},
     "output_type": "execute_result"
    }
   ],
   "source": [
    "#Returns first n number of rows by default it will print first 5 rows \n",
    "data.head()"
   ]
  },
  {
   "cell_type": "code",
   "execution_count": 4,
   "id": "e434dcf6",
   "metadata": {},
   "outputs": [
    {
     "name": "stdout",
     "output_type": "stream",
     "text": [
      "<class 'pandas.core.frame.DataFrame'>\n",
      "RangeIndex: 267 entries, 0 to 266\n",
      "Data columns (total 9 columns):\n",
      " #   Column                                    Non-Null Count  Dtype  \n",
      "---  ------                                    --------------  -----  \n",
      " 0   Region                                    267 non-null    object \n",
      " 1    Date                                     267 non-null    object \n",
      " 2    Frequency                                267 non-null    object \n",
      " 3    Estimated Unemployment Rate (%)          267 non-null    float64\n",
      " 4    Estimated Employed                       267 non-null    int64  \n",
      " 5    Estimated Labour Participation Rate (%)  267 non-null    float64\n",
      " 6   Region.1                                  267 non-null    object \n",
      " 7   longitude                                 267 non-null    float64\n",
      " 8   latitude                                  267 non-null    float64\n",
      "dtypes: float64(4), int64(1), object(4)\n",
      "memory usage: 18.9+ KB\n"
     ]
    }
   ],
   "source": [
    "#To get a concise summary of the dataset\n",
    "data.info()"
   ]
  },
  {
   "cell_type": "code",
   "execution_count": 5,
   "id": "702a6a39",
   "metadata": {},
   "outputs": [
    {
     "data": {
      "text/html": [
       "<div>\n",
       "<style scoped>\n",
       "    .dataframe tbody tr th:only-of-type {\n",
       "        vertical-align: middle;\n",
       "    }\n",
       "\n",
       "    .dataframe tbody tr th {\n",
       "        vertical-align: top;\n",
       "    }\n",
       "\n",
       "    .dataframe thead th {\n",
       "        text-align: right;\n",
       "    }\n",
       "</style>\n",
       "<table border=\"1\" class=\"dataframe\">\n",
       "  <thead>\n",
       "    <tr style=\"text-align: right;\">\n",
       "      <th></th>\n",
       "      <th>Estimated Unemployment Rate (%)</th>\n",
       "      <th>Estimated Employed</th>\n",
       "      <th>Estimated Labour Participation Rate (%)</th>\n",
       "      <th>longitude</th>\n",
       "      <th>latitude</th>\n",
       "    </tr>\n",
       "  </thead>\n",
       "  <tbody>\n",
       "    <tr>\n",
       "      <th>count</th>\n",
       "      <td>267.000000</td>\n",
       "      <td>2.670000e+02</td>\n",
       "      <td>267.000000</td>\n",
       "      <td>267.000000</td>\n",
       "      <td>267.000000</td>\n",
       "    </tr>\n",
       "    <tr>\n",
       "      <th>mean</th>\n",
       "      <td>12.236929</td>\n",
       "      <td>1.396211e+07</td>\n",
       "      <td>41.681573</td>\n",
       "      <td>22.826048</td>\n",
       "      <td>80.532425</td>\n",
       "    </tr>\n",
       "    <tr>\n",
       "      <th>std</th>\n",
       "      <td>10.803283</td>\n",
       "      <td>1.336632e+07</td>\n",
       "      <td>7.845419</td>\n",
       "      <td>6.270731</td>\n",
       "      <td>5.831738</td>\n",
       "    </tr>\n",
       "    <tr>\n",
       "      <th>min</th>\n",
       "      <td>0.500000</td>\n",
       "      <td>1.175420e+05</td>\n",
       "      <td>16.770000</td>\n",
       "      <td>10.850500</td>\n",
       "      <td>71.192400</td>\n",
       "    </tr>\n",
       "    <tr>\n",
       "      <th>25%</th>\n",
       "      <td>4.845000</td>\n",
       "      <td>2.838930e+06</td>\n",
       "      <td>37.265000</td>\n",
       "      <td>18.112400</td>\n",
       "      <td>76.085600</td>\n",
       "    </tr>\n",
       "    <tr>\n",
       "      <th>50%</th>\n",
       "      <td>9.650000</td>\n",
       "      <td>9.732417e+06</td>\n",
       "      <td>40.390000</td>\n",
       "      <td>23.610200</td>\n",
       "      <td>79.019300</td>\n",
       "    </tr>\n",
       "    <tr>\n",
       "      <th>75%</th>\n",
       "      <td>16.755000</td>\n",
       "      <td>2.187869e+07</td>\n",
       "      <td>44.055000</td>\n",
       "      <td>27.278400</td>\n",
       "      <td>85.279900</td>\n",
       "    </tr>\n",
       "    <tr>\n",
       "      <th>max</th>\n",
       "      <td>75.850000</td>\n",
       "      <td>5.943376e+07</td>\n",
       "      <td>69.690000</td>\n",
       "      <td>33.778200</td>\n",
       "      <td>92.937600</td>\n",
       "    </tr>\n",
       "  </tbody>\n",
       "</table>\n",
       "</div>"
      ],
      "text/plain": [
       "        Estimated Unemployment Rate (%)   Estimated Employed  \\\n",
       "count                        267.000000         2.670000e+02   \n",
       "mean                          12.236929         1.396211e+07   \n",
       "std                           10.803283         1.336632e+07   \n",
       "min                            0.500000         1.175420e+05   \n",
       "25%                            4.845000         2.838930e+06   \n",
       "50%                            9.650000         9.732417e+06   \n",
       "75%                           16.755000         2.187869e+07   \n",
       "max                           75.850000         5.943376e+07   \n",
       "\n",
       "        Estimated Labour Participation Rate (%)   longitude    latitude  \n",
       "count                                267.000000  267.000000  267.000000  \n",
       "mean                                  41.681573   22.826048   80.532425  \n",
       "std                                    7.845419    6.270731    5.831738  \n",
       "min                                   16.770000   10.850500   71.192400  \n",
       "25%                                   37.265000   18.112400   76.085600  \n",
       "50%                                   40.390000   23.610200   79.019300  \n",
       "75%                                   44.055000   27.278400   85.279900  \n",
       "max                                   69.690000   33.778200   92.937600  "
      ]
     },
     "execution_count": 5,
     "metadata": {},
     "output_type": "execute_result"
    }
   ],
   "source": [
    "#To generate descriptive statistics \n",
    "data.describe()"
   ]
  },
  {
   "cell_type": "code",
   "execution_count": 6,
   "id": "1ed5f14d",
   "metadata": {},
   "outputs": [
    {
     "data": {
      "text/plain": [
       "Region                                      0\n",
       " Date                                       0\n",
       " Frequency                                  0\n",
       " Estimated Unemployment Rate (%)            0\n",
       " Estimated Employed                         0\n",
       " Estimated Labour Participation Rate (%)    0\n",
       "Region.1                                    0\n",
       "longitude                                   0\n",
       "latitude                                    0\n",
       "dtype: int64"
      ]
     },
     "execution_count": 6,
     "metadata": {},
     "output_type": "execute_result"
    }
   ],
   "source": [
    "#To check if dataset contains missing values or not.\n",
    "data.isnull().sum()"
   ]
  },
  {
   "cell_type": "code",
   "execution_count": 7,
   "id": "49e684b3",
   "metadata": {},
   "outputs": [
    {
     "data": {
      "text/html": [
       "<div>\n",
       "<style scoped>\n",
       "    .dataframe tbody tr th:only-of-type {\n",
       "        vertical-align: middle;\n",
       "    }\n",
       "\n",
       "    .dataframe tbody tr th {\n",
       "        vertical-align: top;\n",
       "    }\n",
       "\n",
       "    .dataframe thead th {\n",
       "        text-align: right;\n",
       "    }\n",
       "</style>\n",
       "<table border=\"1\" class=\"dataframe\">\n",
       "  <thead>\n",
       "    <tr style=\"text-align: right;\">\n",
       "      <th></th>\n",
       "      <th>Region</th>\n",
       "      <th>Date</th>\n",
       "      <th>Frequency</th>\n",
       "      <th>Estimated Unemployment Rate (%)</th>\n",
       "      <th>Estimated Employed</th>\n",
       "      <th>Estimated Labour Participation Rate (%)</th>\n",
       "      <th>Region.1</th>\n",
       "      <th>longitude</th>\n",
       "      <th>latitude</th>\n",
       "    </tr>\n",
       "  </thead>\n",
       "  <tbody>\n",
       "    <tr>\n",
       "      <th>257</th>\n",
       "      <td>West Bengal</td>\n",
       "      <td>31-01-2020</td>\n",
       "      <td>M</td>\n",
       "      <td>6.94</td>\n",
       "      <td>35820789</td>\n",
       "      <td>47.35</td>\n",
       "      <td>East</td>\n",
       "      <td>22.9868</td>\n",
       "      <td>87.855</td>\n",
       "    </tr>\n",
       "    <tr>\n",
       "      <th>258</th>\n",
       "      <td>West Bengal</td>\n",
       "      <td>29-02-2020</td>\n",
       "      <td>M</td>\n",
       "      <td>4.92</td>\n",
       "      <td>36964178</td>\n",
       "      <td>47.74</td>\n",
       "      <td>East</td>\n",
       "      <td>22.9868</td>\n",
       "      <td>87.855</td>\n",
       "    </tr>\n",
       "    <tr>\n",
       "      <th>259</th>\n",
       "      <td>West Bengal</td>\n",
       "      <td>31-03-2020</td>\n",
       "      <td>M</td>\n",
       "      <td>6.92</td>\n",
       "      <td>35903917</td>\n",
       "      <td>47.27</td>\n",
       "      <td>East</td>\n",
       "      <td>22.9868</td>\n",
       "      <td>87.855</td>\n",
       "    </tr>\n",
       "    <tr>\n",
       "      <th>260</th>\n",
       "      <td>West Bengal</td>\n",
       "      <td>30-04-2020</td>\n",
       "      <td>M</td>\n",
       "      <td>17.41</td>\n",
       "      <td>26938836</td>\n",
       "      <td>39.90</td>\n",
       "      <td>East</td>\n",
       "      <td>22.9868</td>\n",
       "      <td>87.855</td>\n",
       "    </tr>\n",
       "    <tr>\n",
       "      <th>261</th>\n",
       "      <td>West Bengal</td>\n",
       "      <td>31-05-2020</td>\n",
       "      <td>M</td>\n",
       "      <td>17.41</td>\n",
       "      <td>28356675</td>\n",
       "      <td>41.92</td>\n",
       "      <td>East</td>\n",
       "      <td>22.9868</td>\n",
       "      <td>87.855</td>\n",
       "    </tr>\n",
       "    <tr>\n",
       "      <th>262</th>\n",
       "      <td>West Bengal</td>\n",
       "      <td>30-06-2020</td>\n",
       "      <td>M</td>\n",
       "      <td>7.29</td>\n",
       "      <td>30726310</td>\n",
       "      <td>40.39</td>\n",
       "      <td>East</td>\n",
       "      <td>22.9868</td>\n",
       "      <td>87.855</td>\n",
       "    </tr>\n",
       "    <tr>\n",
       "      <th>263</th>\n",
       "      <td>West Bengal</td>\n",
       "      <td>31-07-2020</td>\n",
       "      <td>M</td>\n",
       "      <td>6.83</td>\n",
       "      <td>35372506</td>\n",
       "      <td>46.17</td>\n",
       "      <td>East</td>\n",
       "      <td>22.9868</td>\n",
       "      <td>87.855</td>\n",
       "    </tr>\n",
       "    <tr>\n",
       "      <th>264</th>\n",
       "      <td>West Bengal</td>\n",
       "      <td>31-08-2020</td>\n",
       "      <td>M</td>\n",
       "      <td>14.87</td>\n",
       "      <td>33298644</td>\n",
       "      <td>47.48</td>\n",
       "      <td>East</td>\n",
       "      <td>22.9868</td>\n",
       "      <td>87.855</td>\n",
       "    </tr>\n",
       "    <tr>\n",
       "      <th>265</th>\n",
       "      <td>West Bengal</td>\n",
       "      <td>30-09-2020</td>\n",
       "      <td>M</td>\n",
       "      <td>9.35</td>\n",
       "      <td>35707239</td>\n",
       "      <td>47.73</td>\n",
       "      <td>East</td>\n",
       "      <td>22.9868</td>\n",
       "      <td>87.855</td>\n",
       "    </tr>\n",
       "    <tr>\n",
       "      <th>266</th>\n",
       "      <td>West Bengal</td>\n",
       "      <td>31-10-2020</td>\n",
       "      <td>M</td>\n",
       "      <td>9.98</td>\n",
       "      <td>33962549</td>\n",
       "      <td>45.63</td>\n",
       "      <td>East</td>\n",
       "      <td>22.9868</td>\n",
       "      <td>87.855</td>\n",
       "    </tr>\n",
       "  </tbody>\n",
       "</table>\n",
       "</div>"
      ],
      "text/plain": [
       "          Region         Date  Frequency   Estimated Unemployment Rate (%)  \\\n",
       "257  West Bengal   31-01-2020          M                              6.94   \n",
       "258  West Bengal   29-02-2020          M                              4.92   \n",
       "259  West Bengal   31-03-2020          M                              6.92   \n",
       "260  West Bengal   30-04-2020          M                             17.41   \n",
       "261  West Bengal   31-05-2020          M                             17.41   \n",
       "262  West Bengal   30-06-2020          M                              7.29   \n",
       "263  West Bengal   31-07-2020          M                              6.83   \n",
       "264  West Bengal   31-08-2020          M                             14.87   \n",
       "265  West Bengal   30-09-2020          M                              9.35   \n",
       "266  West Bengal   31-10-2020          M                              9.98   \n",
       "\n",
       "      Estimated Employed   Estimated Labour Participation Rate (%) Region.1  \\\n",
       "257             35820789                                     47.35     East   \n",
       "258             36964178                                     47.74     East   \n",
       "259             35903917                                     47.27     East   \n",
       "260             26938836                                     39.90     East   \n",
       "261             28356675                                     41.92     East   \n",
       "262             30726310                                     40.39     East   \n",
       "263             35372506                                     46.17     East   \n",
       "264             33298644                                     47.48     East   \n",
       "265             35707239                                     47.73     East   \n",
       "266             33962549                                     45.63     East   \n",
       "\n",
       "     longitude  latitude  \n",
       "257    22.9868    87.855  \n",
       "258    22.9868    87.855  \n",
       "259    22.9868    87.855  \n",
       "260    22.9868    87.855  \n",
       "261    22.9868    87.855  \n",
       "262    22.9868    87.855  \n",
       "263    22.9868    87.855  \n",
       "264    22.9868    87.855  \n",
       "265    22.9868    87.855  \n",
       "266    22.9868    87.855  "
      ]
     },
     "execution_count": 7,
     "metadata": {},
     "output_type": "execute_result"
    }
   ],
   "source": [
    "#To get column names \n",
    "data.columns\n",
    "data.tail(10)"
   ]
  },
  {
   "cell_type": "code",
   "execution_count": 8,
   "id": "94c244d3",
   "metadata": {},
   "outputs": [
    {
     "data": {
      "text/html": [
       "<div>\n",
       "<style scoped>\n",
       "    .dataframe tbody tr th:only-of-type {\n",
       "        vertical-align: middle;\n",
       "    }\n",
       "\n",
       "    .dataframe tbody tr th {\n",
       "        vertical-align: top;\n",
       "    }\n",
       "\n",
       "    .dataframe thead th {\n",
       "        text-align: right;\n",
       "    }\n",
       "</style>\n",
       "<table border=\"1\" class=\"dataframe\">\n",
       "  <thead>\n",
       "    <tr style=\"text-align: right;\">\n",
       "      <th></th>\n",
       "      <th>Region</th>\n",
       "      <th>Date</th>\n",
       "      <th>Frequency</th>\n",
       "      <th>Estimated Unemployment Rate (%)</th>\n",
       "      <th>Estimated Employed</th>\n",
       "      <th>Estimated Labour Participation Rate (%)</th>\n",
       "      <th>Region.1</th>\n",
       "      <th>longitude</th>\n",
       "      <th>latitude</th>\n",
       "    </tr>\n",
       "  </thead>\n",
       "  <tbody>\n",
       "    <tr>\n",
       "      <th>0</th>\n",
       "      <td>Andhra Pradesh</td>\n",
       "      <td>31-01-2020</td>\n",
       "      <td>M</td>\n",
       "      <td>5.48</td>\n",
       "      <td>16635535</td>\n",
       "      <td>41.02</td>\n",
       "      <td>South</td>\n",
       "      <td>15.9129</td>\n",
       "      <td>79.740</td>\n",
       "    </tr>\n",
       "    <tr>\n",
       "      <th>1</th>\n",
       "      <td>Andhra Pradesh</td>\n",
       "      <td>29-02-2020</td>\n",
       "      <td>M</td>\n",
       "      <td>5.83</td>\n",
       "      <td>16545652</td>\n",
       "      <td>40.90</td>\n",
       "      <td>South</td>\n",
       "      <td>15.9129</td>\n",
       "      <td>79.740</td>\n",
       "    </tr>\n",
       "    <tr>\n",
       "      <th>2</th>\n",
       "      <td>Andhra Pradesh</td>\n",
       "      <td>31-03-2020</td>\n",
       "      <td>M</td>\n",
       "      <td>5.79</td>\n",
       "      <td>15881197</td>\n",
       "      <td>39.18</td>\n",
       "      <td>South</td>\n",
       "      <td>15.9129</td>\n",
       "      <td>79.740</td>\n",
       "    </tr>\n",
       "    <tr>\n",
       "      <th>3</th>\n",
       "      <td>Andhra Pradesh</td>\n",
       "      <td>30-04-2020</td>\n",
       "      <td>M</td>\n",
       "      <td>20.51</td>\n",
       "      <td>11336911</td>\n",
       "      <td>33.10</td>\n",
       "      <td>South</td>\n",
       "      <td>15.9129</td>\n",
       "      <td>79.740</td>\n",
       "    </tr>\n",
       "    <tr>\n",
       "      <th>4</th>\n",
       "      <td>Andhra Pradesh</td>\n",
       "      <td>31-05-2020</td>\n",
       "      <td>M</td>\n",
       "      <td>17.43</td>\n",
       "      <td>12988845</td>\n",
       "      <td>36.46</td>\n",
       "      <td>South</td>\n",
       "      <td>15.9129</td>\n",
       "      <td>79.740</td>\n",
       "    </tr>\n",
       "    <tr>\n",
       "      <th>...</th>\n",
       "      <td>...</td>\n",
       "      <td>...</td>\n",
       "      <td>...</td>\n",
       "      <td>...</td>\n",
       "      <td>...</td>\n",
       "      <td>...</td>\n",
       "      <td>...</td>\n",
       "      <td>...</td>\n",
       "      <td>...</td>\n",
       "    </tr>\n",
       "    <tr>\n",
       "      <th>262</th>\n",
       "      <td>West Bengal</td>\n",
       "      <td>30-06-2020</td>\n",
       "      <td>M</td>\n",
       "      <td>7.29</td>\n",
       "      <td>30726310</td>\n",
       "      <td>40.39</td>\n",
       "      <td>East</td>\n",
       "      <td>22.9868</td>\n",
       "      <td>87.855</td>\n",
       "    </tr>\n",
       "    <tr>\n",
       "      <th>263</th>\n",
       "      <td>West Bengal</td>\n",
       "      <td>31-07-2020</td>\n",
       "      <td>M</td>\n",
       "      <td>6.83</td>\n",
       "      <td>35372506</td>\n",
       "      <td>46.17</td>\n",
       "      <td>East</td>\n",
       "      <td>22.9868</td>\n",
       "      <td>87.855</td>\n",
       "    </tr>\n",
       "    <tr>\n",
       "      <th>264</th>\n",
       "      <td>West Bengal</td>\n",
       "      <td>31-08-2020</td>\n",
       "      <td>M</td>\n",
       "      <td>14.87</td>\n",
       "      <td>33298644</td>\n",
       "      <td>47.48</td>\n",
       "      <td>East</td>\n",
       "      <td>22.9868</td>\n",
       "      <td>87.855</td>\n",
       "    </tr>\n",
       "    <tr>\n",
       "      <th>265</th>\n",
       "      <td>West Bengal</td>\n",
       "      <td>30-09-2020</td>\n",
       "      <td>M</td>\n",
       "      <td>9.35</td>\n",
       "      <td>35707239</td>\n",
       "      <td>47.73</td>\n",
       "      <td>East</td>\n",
       "      <td>22.9868</td>\n",
       "      <td>87.855</td>\n",
       "    </tr>\n",
       "    <tr>\n",
       "      <th>266</th>\n",
       "      <td>West Bengal</td>\n",
       "      <td>31-10-2020</td>\n",
       "      <td>M</td>\n",
       "      <td>9.98</td>\n",
       "      <td>33962549</td>\n",
       "      <td>45.63</td>\n",
       "      <td>East</td>\n",
       "      <td>22.9868</td>\n",
       "      <td>87.855</td>\n",
       "    </tr>\n",
       "  </tbody>\n",
       "</table>\n",
       "<p>267 rows × 9 columns</p>\n",
       "</div>"
      ],
      "text/plain": [
       "             Region         Date  Frequency   Estimated Unemployment Rate (%)  \\\n",
       "0    Andhra Pradesh   31-01-2020          M                              5.48   \n",
       "1    Andhra Pradesh   29-02-2020          M                              5.83   \n",
       "2    Andhra Pradesh   31-03-2020          M                              5.79   \n",
       "3    Andhra Pradesh   30-04-2020          M                             20.51   \n",
       "4    Andhra Pradesh   31-05-2020          M                             17.43   \n",
       "..              ...          ...        ...                               ...   \n",
       "262     West Bengal   30-06-2020          M                              7.29   \n",
       "263     West Bengal   31-07-2020          M                              6.83   \n",
       "264     West Bengal   31-08-2020          M                             14.87   \n",
       "265     West Bengal   30-09-2020          M                              9.35   \n",
       "266     West Bengal   31-10-2020          M                              9.98   \n",
       "\n",
       "      Estimated Employed   Estimated Labour Participation Rate (%) Region.1  \\\n",
       "0               16635535                                     41.02    South   \n",
       "1               16545652                                     40.90    South   \n",
       "2               15881197                                     39.18    South   \n",
       "3               11336911                                     33.10    South   \n",
       "4               12988845                                     36.46    South   \n",
       "..                   ...                                       ...      ...   \n",
       "262             30726310                                     40.39     East   \n",
       "263             35372506                                     46.17     East   \n",
       "264             33298644                                     47.48     East   \n",
       "265             35707239                                     47.73     East   \n",
       "266             33962549                                     45.63     East   \n",
       "\n",
       "     longitude  latitude  \n",
       "0      15.9129    79.740  \n",
       "1      15.9129    79.740  \n",
       "2      15.9129    79.740  \n",
       "3      15.9129    79.740  \n",
       "4      15.9129    79.740  \n",
       "..         ...       ...  \n",
       "262    22.9868    87.855  \n",
       "263    22.9868    87.855  \n",
       "264    22.9868    87.855  \n",
       "265    22.9868    87.855  \n",
       "266    22.9868    87.855  \n",
       "\n",
       "[267 rows x 9 columns]"
      ]
     },
     "execution_count": 8,
     "metadata": {},
     "output_type": "execute_result"
    }
   ],
   "source": [
    "#To remove missing values \n",
    "data.dropna()"
   ]
  },
  {
   "cell_type": "code",
   "execution_count": 9,
   "id": "dd235ef9",
   "metadata": {},
   "outputs": [
    {
     "data": {
      "text/html": [
       "<div>\n",
       "<style scoped>\n",
       "    .dataframe tbody tr th:only-of-type {\n",
       "        vertical-align: middle;\n",
       "    }\n",
       "\n",
       "    .dataframe tbody tr th {\n",
       "        vertical-align: top;\n",
       "    }\n",
       "\n",
       "    .dataframe thead th {\n",
       "        text-align: right;\n",
       "    }\n",
       "</style>\n",
       "<table border=\"1\" class=\"dataframe\">\n",
       "  <thead>\n",
       "    <tr style=\"text-align: right;\">\n",
       "      <th></th>\n",
       "      <th>Region</th>\n",
       "      <th>Date</th>\n",
       "      <th>Frequency</th>\n",
       "      <th>Estimated Unemployment Rate (%)</th>\n",
       "      <th>Estimated Employed</th>\n",
       "      <th>Estimated Labour Participation Rate (%)</th>\n",
       "      <th>Region.1</th>\n",
       "      <th>longitude</th>\n",
       "      <th>latitude</th>\n",
       "    </tr>\n",
       "  </thead>\n",
       "  <tbody>\n",
       "    <tr>\n",
       "      <th>0</th>\n",
       "      <td>Andhra Pradesh</td>\n",
       "      <td>31-01-2020</td>\n",
       "      <td>M</td>\n",
       "      <td>5.48</td>\n",
       "      <td>16635535</td>\n",
       "      <td>41.02</td>\n",
       "      <td>South</td>\n",
       "      <td>15.9129</td>\n",
       "      <td>79.740</td>\n",
       "    </tr>\n",
       "    <tr>\n",
       "      <th>1</th>\n",
       "      <td>Andhra Pradesh</td>\n",
       "      <td>29-02-2020</td>\n",
       "      <td>M</td>\n",
       "      <td>5.83</td>\n",
       "      <td>16545652</td>\n",
       "      <td>40.90</td>\n",
       "      <td>South</td>\n",
       "      <td>15.9129</td>\n",
       "      <td>79.740</td>\n",
       "    </tr>\n",
       "    <tr>\n",
       "      <th>2</th>\n",
       "      <td>Andhra Pradesh</td>\n",
       "      <td>31-03-2020</td>\n",
       "      <td>M</td>\n",
       "      <td>5.79</td>\n",
       "      <td>15881197</td>\n",
       "      <td>39.18</td>\n",
       "      <td>South</td>\n",
       "      <td>15.9129</td>\n",
       "      <td>79.740</td>\n",
       "    </tr>\n",
       "    <tr>\n",
       "      <th>3</th>\n",
       "      <td>Andhra Pradesh</td>\n",
       "      <td>30-04-2020</td>\n",
       "      <td>M</td>\n",
       "      <td>20.51</td>\n",
       "      <td>11336911</td>\n",
       "      <td>33.10</td>\n",
       "      <td>South</td>\n",
       "      <td>15.9129</td>\n",
       "      <td>79.740</td>\n",
       "    </tr>\n",
       "    <tr>\n",
       "      <th>4</th>\n",
       "      <td>Andhra Pradesh</td>\n",
       "      <td>31-05-2020</td>\n",
       "      <td>M</td>\n",
       "      <td>17.43</td>\n",
       "      <td>12988845</td>\n",
       "      <td>36.46</td>\n",
       "      <td>South</td>\n",
       "      <td>15.9129</td>\n",
       "      <td>79.740</td>\n",
       "    </tr>\n",
       "    <tr>\n",
       "      <th>...</th>\n",
       "      <td>...</td>\n",
       "      <td>...</td>\n",
       "      <td>...</td>\n",
       "      <td>...</td>\n",
       "      <td>...</td>\n",
       "      <td>...</td>\n",
       "      <td>...</td>\n",
       "      <td>...</td>\n",
       "      <td>...</td>\n",
       "    </tr>\n",
       "    <tr>\n",
       "      <th>262</th>\n",
       "      <td>West Bengal</td>\n",
       "      <td>30-06-2020</td>\n",
       "      <td>M</td>\n",
       "      <td>7.29</td>\n",
       "      <td>30726310</td>\n",
       "      <td>40.39</td>\n",
       "      <td>East</td>\n",
       "      <td>22.9868</td>\n",
       "      <td>87.855</td>\n",
       "    </tr>\n",
       "    <tr>\n",
       "      <th>263</th>\n",
       "      <td>West Bengal</td>\n",
       "      <td>31-07-2020</td>\n",
       "      <td>M</td>\n",
       "      <td>6.83</td>\n",
       "      <td>35372506</td>\n",
       "      <td>46.17</td>\n",
       "      <td>East</td>\n",
       "      <td>22.9868</td>\n",
       "      <td>87.855</td>\n",
       "    </tr>\n",
       "    <tr>\n",
       "      <th>264</th>\n",
       "      <td>West Bengal</td>\n",
       "      <td>31-08-2020</td>\n",
       "      <td>M</td>\n",
       "      <td>14.87</td>\n",
       "      <td>33298644</td>\n",
       "      <td>47.48</td>\n",
       "      <td>East</td>\n",
       "      <td>22.9868</td>\n",
       "      <td>87.855</td>\n",
       "    </tr>\n",
       "    <tr>\n",
       "      <th>265</th>\n",
       "      <td>West Bengal</td>\n",
       "      <td>30-09-2020</td>\n",
       "      <td>M</td>\n",
       "      <td>9.35</td>\n",
       "      <td>35707239</td>\n",
       "      <td>47.73</td>\n",
       "      <td>East</td>\n",
       "      <td>22.9868</td>\n",
       "      <td>87.855</td>\n",
       "    </tr>\n",
       "    <tr>\n",
       "      <th>266</th>\n",
       "      <td>West Bengal</td>\n",
       "      <td>31-10-2020</td>\n",
       "      <td>M</td>\n",
       "      <td>9.98</td>\n",
       "      <td>33962549</td>\n",
       "      <td>45.63</td>\n",
       "      <td>East</td>\n",
       "      <td>22.9868</td>\n",
       "      <td>87.855</td>\n",
       "    </tr>\n",
       "  </tbody>\n",
       "</table>\n",
       "<p>267 rows × 9 columns</p>\n",
       "</div>"
      ],
      "text/plain": [
       "             Region         Date  Frequency   Estimated Unemployment Rate (%)  \\\n",
       "0    Andhra Pradesh   31-01-2020          M                              5.48   \n",
       "1    Andhra Pradesh   29-02-2020          M                              5.83   \n",
       "2    Andhra Pradesh   31-03-2020          M                              5.79   \n",
       "3    Andhra Pradesh   30-04-2020          M                             20.51   \n",
       "4    Andhra Pradesh   31-05-2020          M                             17.43   \n",
       "..              ...          ...        ...                               ...   \n",
       "262     West Bengal   30-06-2020          M                              7.29   \n",
       "263     West Bengal   31-07-2020          M                              6.83   \n",
       "264     West Bengal   31-08-2020          M                             14.87   \n",
       "265     West Bengal   30-09-2020          M                              9.35   \n",
       "266     West Bengal   31-10-2020          M                              9.98   \n",
       "\n",
       "      Estimated Employed   Estimated Labour Participation Rate (%) Region.1  \\\n",
       "0               16635535                                     41.02    South   \n",
       "1               16545652                                     40.90    South   \n",
       "2               15881197                                     39.18    South   \n",
       "3               11336911                                     33.10    South   \n",
       "4               12988845                                     36.46    South   \n",
       "..                   ...                                       ...      ...   \n",
       "262             30726310                                     40.39     East   \n",
       "263             35372506                                     46.17     East   \n",
       "264             33298644                                     47.48     East   \n",
       "265             35707239                                     47.73     East   \n",
       "266             33962549                                     45.63     East   \n",
       "\n",
       "     longitude  latitude  \n",
       "0      15.9129    79.740  \n",
       "1      15.9129    79.740  \n",
       "2      15.9129    79.740  \n",
       "3      15.9129    79.740  \n",
       "4      15.9129    79.740  \n",
       "..         ...       ...  \n",
       "262    22.9868    87.855  \n",
       "263    22.9868    87.855  \n",
       "264    22.9868    87.855  \n",
       "265    22.9868    87.855  \n",
       "266    22.9868    87.855  \n",
       "\n",
       "[267 rows x 9 columns]"
      ]
     },
     "execution_count": 9,
     "metadata": {},
     "output_type": "execute_result"
    }
   ],
   "source": [
    "# To remove duplicate rows\n",
    "data.drop_duplicates() "
   ]
  },
  {
   "cell_type": "code",
   "execution_count": 10,
   "id": "e7be8abe",
   "metadata": {},
   "outputs": [
    {
     "data": {
      "text/plain": [
       "2403"
      ]
     },
     "execution_count": 10,
     "metadata": {},
     "output_type": "execute_result"
    }
   ],
   "source": [
    "#to return the total number of elements in dataset\n",
    "data.size"
   ]
  },
  {
   "cell_type": "code",
   "execution_count": 11,
   "id": "baf6dae8",
   "metadata": {},
   "outputs": [
    {
     "data": {
      "text/plain": [
       "(267, 9)"
      ]
     },
     "execution_count": 11,
     "metadata": {},
     "output_type": "execute_result"
    }
   ],
   "source": [
    "#To get the dimensions (rows,columns) of the dataset\n",
    "data.shape"
   ]
  },
  {
   "cell_type": "code",
   "execution_count": 12,
   "id": "7ff0610a",
   "metadata": {},
   "outputs": [
    {
     "data": {
      "text/plain": [
       "Index(['Region', ' Date', ' Frequency', ' Estimated Unemployment Rate (%)',\n",
       "       ' Estimated Employed', ' Estimated Labour Participation Rate (%)',\n",
       "       'Region.1', 'longitude', 'latitude'],\n",
       "      dtype='object')"
      ]
     },
     "execution_count": 12,
     "metadata": {},
     "output_type": "execute_result"
    }
   ],
   "source": [
    "#To show column labels of the dataset\n",
    "data.columns"
   ]
  },
  {
   "cell_type": "code",
   "execution_count": 13,
   "id": "535184ff",
   "metadata": {},
   "outputs": [
    {
     "name": "stderr",
     "output_type": "stream",
     "text": [
      "C:\\Users\\Dinesh\\AppData\\Local\\Temp\\ipykernel_3868\\386580175.py:2: FutureWarning: The default value of numeric_only in DataFrame.mean is deprecated. In a future version, it will default to False. In addition, specifying 'numeric_only=None' is deprecated. Select only valid columns or specify the value of numeric_only to silence this warning.\n",
      "  data.mean()\n"
     ]
    },
    {
     "data": {
      "text/plain": [
       " Estimated Unemployment Rate (%)            1.223693e+01\n",
       " Estimated Employed                         1.396211e+07\n",
       " Estimated Labour Participation Rate (%)    4.168157e+01\n",
       "longitude                                   2.282605e+01\n",
       "latitude                                    8.053242e+01\n",
       "dtype: float64"
      ]
     },
     "execution_count": 13,
     "metadata": {},
     "output_type": "execute_result"
    }
   ],
   "source": [
    "#Mean \n",
    "data.mean()"
   ]
  },
  {
   "cell_type": "code",
   "execution_count": 14,
   "id": "d9a40176",
   "metadata": {},
   "outputs": [
    {
     "name": "stderr",
     "output_type": "stream",
     "text": [
      "C:\\Users\\Dinesh\\AppData\\Local\\Temp\\ipykernel_3868\\1182471035.py:2: FutureWarning: The default value of numeric_only in DataFrame.median is deprecated. In a future version, it will default to False. In addition, specifying 'numeric_only=None' is deprecated. Select only valid columns or specify the value of numeric_only to silence this warning.\n",
      "  data.median()\n"
     ]
    },
    {
     "data": {
      "text/plain": [
       " Estimated Unemployment Rate (%)            9.650000e+00\n",
       " Estimated Employed                         9.732417e+06\n",
       " Estimated Labour Participation Rate (%)    4.039000e+01\n",
       "longitude                                   2.361020e+01\n",
       "latitude                                    7.901930e+01\n",
       "dtype: float64"
      ]
     },
     "execution_count": 14,
     "metadata": {},
     "output_type": "execute_result"
    }
   ],
   "source": [
    "#Median\n",
    "data.median()"
   ]
  },
  {
   "cell_type": "code",
   "execution_count": 15,
   "id": "3591f0b9",
   "metadata": {},
   "outputs": [
    {
     "name": "stderr",
     "output_type": "stream",
     "text": [
      "C:\\Users\\Dinesh\\AppData\\Local\\Temp\\ipykernel_3868\\2804159457.py:2: FutureWarning: The default value of numeric_only in DataFrame.std is deprecated. In a future version, it will default to False. In addition, specifying 'numeric_only=None' is deprecated. Select only valid columns or specify the value of numeric_only to silence this warning.\n",
      "  data.std()\n"
     ]
    },
    {
     "data": {
      "text/plain": [
       " Estimated Unemployment Rate (%)            1.080328e+01\n",
       " Estimated Employed                         1.336632e+07\n",
       " Estimated Labour Participation Rate (%)    7.845419e+00\n",
       "longitude                                   6.270731e+00\n",
       "latitude                                    5.831738e+00\n",
       "dtype: float64"
      ]
     },
     "execution_count": 15,
     "metadata": {},
     "output_type": "execute_result"
    }
   ],
   "source": [
    "#Standard Deviation\n",
    "data.std()"
   ]
  },
  {
   "cell_type": "code",
   "execution_count": 16,
   "id": "9b4694cc",
   "metadata": {},
   "outputs": [
    {
     "data": {
      "image/png": "[encoded data removed]",
      "text/plain": [
       "<Figure size 1200x1000 with 1 Axes>"
      ]
     },
     "metadata": {},
     "output_type": "display_data"
    }
   ],
   "source": [
    "#Estimated Region Unemployment Rate-histplot\n",
    "plt.figure(figsize=(12,10))\n",
    "plt.title('Unemployment In India')\n",
    "sns.histplot(x=' Estimated Unemployment Rate (%)', hue=\"Region.1\", data=data)\n",
    "plt.show()"
   ]
  },
  {
   "cell_type": "code",
   "execution_count": 17,
   "id": "507dea84",
   "metadata": {},
   "outputs": [
    {
     "data": {
      "image/png": "[encoded data removed]",
      "text/plain": [
       "<Figure size 1200x1000 with 1 Axes>"
      ]
     },
     "metadata": {},
     "output_type": "display_data"
    }
   ],
   "source": [
    "#Estimated States Unemployment Rate-hisplot\n",
    "plt.figure(figsize=(12,10))\n",
    "plt.title('Unemployment In India State Wise')\n",
    "sns.histplot(x=' Estimated Unemployment Rate (%)', hue=\"Region\", data=data)\n",
    "plt.show()"
   ]
  },
  {
   "cell_type": "code",
   "execution_count": 18,
   "id": "5c8028cb",
   "metadata": {
    "scrolled": false
   },
   "outputs": [
    {
     "data": {
      "image/png": "[encoded data removed]",
      "text/plain": [
       "<Figure size 800x800 with 1 Axes>"
      ]
     },
     "metadata": {},
     "output_type": "display_data"
    }
   ],
   "source": [
    "#Estimated Unemployment Rate % by States-Piechart\n",
    "data={'States': ['Delhi', 'Haryana', 'Bihar', 'Gujarat'],'Estimated Unemployment Rate %': [10, 20, 15, 5]}\n",
    "df=pd.DataFrame(data)\n",
    "df.set_index('States', inplace=True)\n",
    "plt.figure(figsize=(8, 8)) \n",
    "plt.pie(df['Estimated Unemployment Rate %'], labels=df.index, autopct='%1.1f%%', startangle=140, shadow=True)\n",
    "plt.axis('equal')\n",
    "plt.title('Estimated Unemployment Rate % by States')\n",
    "plt.show()"
   ]
  },
  {
   "cell_type": "code",
   "execution_count": 20,
   "id": "fee508db",
   "metadata": {},
   "outputs": [
    {
     "data": {
      "text/html": [
       "<div>\n",
       "<style scoped>\n",
       "    .dataframe tbody tr th:only-of-type {\n",
       "        vertical-align: middle;\n",
       "    }\n",
       "\n",
       "    .dataframe tbody tr th {\n",
       "        vertical-align: top;\n",
       "    }\n",
       "\n",
       "    .dataframe thead th {\n",
       "        text-align: right;\n",
       "    }\n",
       "</style>\n",
       "<table border=\"1\" class=\"dataframe\">\n",
       "  <thead>\n",
       "    <tr style=\"text-align: right;\">\n",
       "      <th></th>\n",
       "      <th>Region</th>\n",
       "      <th>Date</th>\n",
       "      <th>Frequency</th>\n",
       "      <th>Estimated Unemployment Rate (%)</th>\n",
       "      <th>Estimated Employed</th>\n",
       "      <th>Estimated Labour Participation Rate (%)</th>\n",
       "      <th>Region.1</th>\n",
       "      <th>longitude</th>\n",
       "      <th>latitude</th>\n",
       "    </tr>\n",
       "  </thead>\n",
       "  <tbody>\n",
       "    <tr>\n",
       "      <th>0</th>\n",
       "      <td>Andhra Pradesh</td>\n",
       "      <td>31-01-2020</td>\n",
       "      <td>M</td>\n",
       "      <td>5.48</td>\n",
       "      <td>16635535</td>\n",
       "      <td>41.02</td>\n",
       "      <td>South</td>\n",
       "      <td>15.9129</td>\n",
       "      <td>79.740</td>\n",
       "    </tr>\n",
       "    <tr>\n",
       "      <th>1</th>\n",
       "      <td>Andhra Pradesh</td>\n",
       "      <td>29-02-2020</td>\n",
       "      <td>M</td>\n",
       "      <td>5.83</td>\n",
       "      <td>16545652</td>\n",
       "      <td>40.90</td>\n",
       "      <td>South</td>\n",
       "      <td>15.9129</td>\n",
       "      <td>79.740</td>\n",
       "    </tr>\n",
       "    <tr>\n",
       "      <th>2</th>\n",
       "      <td>Andhra Pradesh</td>\n",
       "      <td>31-03-2020</td>\n",
       "      <td>M</td>\n",
       "      <td>5.79</td>\n",
       "      <td>15881197</td>\n",
       "      <td>39.18</td>\n",
       "      <td>South</td>\n",
       "      <td>15.9129</td>\n",
       "      <td>79.740</td>\n",
       "    </tr>\n",
       "    <tr>\n",
       "      <th>3</th>\n",
       "      <td>Andhra Pradesh</td>\n",
       "      <td>30-04-2020</td>\n",
       "      <td>M</td>\n",
       "      <td>20.51</td>\n",
       "      <td>11336911</td>\n",
       "      <td>33.10</td>\n",
       "      <td>South</td>\n",
       "      <td>15.9129</td>\n",
       "      <td>79.740</td>\n",
       "    </tr>\n",
       "    <tr>\n",
       "      <th>4</th>\n",
       "      <td>Andhra Pradesh</td>\n",
       "      <td>31-05-2020</td>\n",
       "      <td>M</td>\n",
       "      <td>17.43</td>\n",
       "      <td>12988845</td>\n",
       "      <td>36.46</td>\n",
       "      <td>South</td>\n",
       "      <td>15.9129</td>\n",
       "      <td>79.740</td>\n",
       "    </tr>\n",
       "    <tr>\n",
       "      <th>...</th>\n",
       "      <td>...</td>\n",
       "      <td>...</td>\n",
       "      <td>...</td>\n",
       "      <td>...</td>\n",
       "      <td>...</td>\n",
       "      <td>...</td>\n",
       "      <td>...</td>\n",
       "      <td>...</td>\n",
       "      <td>...</td>\n",
       "    </tr>\n",
       "    <tr>\n",
       "      <th>262</th>\n",
       "      <td>West Bengal</td>\n",
       "      <td>30-06-2020</td>\n",
       "      <td>M</td>\n",
       "      <td>7.29</td>\n",
       "      <td>30726310</td>\n",
       "      <td>40.39</td>\n",
       "      <td>East</td>\n",
       "      <td>22.9868</td>\n",
       "      <td>87.855</td>\n",
       "    </tr>\n",
       "    <tr>\n",
       "      <th>263</th>\n",
       "      <td>West Bengal</td>\n",
       "      <td>31-07-2020</td>\n",
       "      <td>M</td>\n",
       "      <td>6.83</td>\n",
       "      <td>35372506</td>\n",
       "      <td>46.17</td>\n",
       "      <td>East</td>\n",
       "      <td>22.9868</td>\n",
       "      <td>87.855</td>\n",
       "    </tr>\n",
       "    <tr>\n",
       "      <th>264</th>\n",
       "      <td>West Bengal</td>\n",
       "      <td>31-08-2020</td>\n",
       "      <td>M</td>\n",
       "      <td>14.87</td>\n",
       "      <td>33298644</td>\n",
       "      <td>47.48</td>\n",
       "      <td>East</td>\n",
       "      <td>22.9868</td>\n",
       "      <td>87.855</td>\n",
       "    </tr>\n",
       "    <tr>\n",
       "      <th>265</th>\n",
       "      <td>West Bengal</td>\n",
       "      <td>30-09-2020</td>\n",
       "      <td>M</td>\n",
       "      <td>9.35</td>\n",
       "      <td>35707239</td>\n",
       "      <td>47.73</td>\n",
       "      <td>East</td>\n",
       "      <td>22.9868</td>\n",
       "      <td>87.855</td>\n",
       "    </tr>\n",
       "    <tr>\n",
       "      <th>266</th>\n",
       "      <td>West Bengal</td>\n",
       "      <td>31-10-2020</td>\n",
       "      <td>M</td>\n",
       "      <td>9.98</td>\n",
       "      <td>33962549</td>\n",
       "      <td>45.63</td>\n",
       "      <td>East</td>\n",
       "      <td>22.9868</td>\n",
       "      <td>87.855</td>\n",
       "    </tr>\n",
       "  </tbody>\n",
       "</table>\n",
       "<p>267 rows × 9 columns</p>\n",
       "</div>"
      ],
      "text/plain": [
       "             Region         Date  Frequency   Estimated Unemployment Rate (%)  \\\n",
       "0    Andhra Pradesh   31-01-2020          M                              5.48   \n",
       "1    Andhra Pradesh   29-02-2020          M                              5.83   \n",
       "2    Andhra Pradesh   31-03-2020          M                              5.79   \n",
       "3    Andhra Pradesh   30-04-2020          M                             20.51   \n",
       "4    Andhra Pradesh   31-05-2020          M                             17.43   \n",
       "..              ...          ...        ...                               ...   \n",
       "262     West Bengal   30-06-2020          M                              7.29   \n",
       "263     West Bengal   31-07-2020          M                              6.83   \n",
       "264     West Bengal   31-08-2020          M                             14.87   \n",
       "265     West Bengal   30-09-2020          M                              9.35   \n",
       "266     West Bengal   31-10-2020          M                              9.98   \n",
       "\n",
       "      Estimated Employed   Estimated Labour Participation Rate (%) Region.1  \\\n",
       "0               16635535                                     41.02    South   \n",
       "1               16545652                                     40.90    South   \n",
       "2               15881197                                     39.18    South   \n",
       "3               11336911                                     33.10    South   \n",
       "4               12988845                                     36.46    South   \n",
       "..                   ...                                       ...      ...   \n",
       "262             30726310                                     40.39     East   \n",
       "263             35372506                                     46.17     East   \n",
       "264             33298644                                     47.48     East   \n",
       "265             35707239                                     47.73     East   \n",
       "266             33962549                                     45.63     East   \n",
       "\n",
       "     longitude  latitude  \n",
       "0      15.9129    79.740  \n",
       "1      15.9129    79.740  \n",
       "2      15.9129    79.740  \n",
       "3      15.9129    79.740  \n",
       "4      15.9129    79.740  \n",
       "..         ...       ...  \n",
       "262    22.9868    87.855  \n",
       "263    22.9868    87.855  \n",
       "264    22.9868    87.855  \n",
       "265    22.9868    87.855  \n",
       "266    22.9868    87.855  \n",
       "\n",
       "[267 rows x 9 columns]"
      ]
     },
     "execution_count": 20,
     "metadata": {},
     "output_type": "execute_result"
    }
   ],
   "source": [
    "data=pd.read_csv(\"D:\\\\internship data\\\\attachments\\\\Unemployment_Rate_upto_11_2020.csv\")\n",
    "data"
   ]
  },
  {
   "cell_type": "code",
   "execution_count": 21,
   "id": "7beb99a4",
   "metadata": {},
   "outputs": [
    {
     "name": "stderr",
     "output_type": "stream",
     "text": [
      "C:\\Users\\Dinesh\\AppData\\Local\\Temp\\ipykernel_3868\\731422669.py:2: FutureWarning: The default value of numeric_only in DataFrame.corr is deprecated. In a future version, it will default to False. Select only valid columns or specify the value of numeric_only to silence this warning.\n",
      "  sns.heatmap(data.corr())\n"
     ]
    },
    {
     "data": {
      "image/png": "[encoded data removed]",
      "text/plain": [
       "<Figure size 1200x600 with 2 Axes>"
      ]
     },
     "metadata": {},
     "output_type": "display_data"
    }
   ],
   "source": [
    "plt.figure(figsize=(12,6))\n",
    "sns.heatmap(data.corr())\n",
    "plt.show()"
   ]
  },
  {
   "cell_type": "code",
   "execution_count": 23,
   "id": "8c5c4e3c",
   "metadata": {},
   "outputs": [
    {
     "data": {
      "application/vnd.plotly.v1+json": {
       "config": {
        "plotlyServerURL": "https://plot.ly"
       },
       "data": [
        {
         "branchvalues": "total",
         "domain": {
          "x": [
           0,
           1
          ],
          "y": [
           0,
           1
          ]
         },
         "hovertemplate": "labels=%{label}<br> Estimated Unemployment Rate (%)=%{value}<br>parent=%{parent}<br>id=%{id}<extra></extra>",
         "ids": [
          "South/Andhra Pradesh",
          "Northeast/Assam",
          "East/Bihar",
          "West/Chhattisgarh",
          "North/Delhi",
          "West/Goa",
          "West/Gujarat",
          "North/Haryana",
          "North/Himachal Pradesh",
          "North/Jammu & Kashmir",
          "East/Jharkhand",
          "South/Karnataka",
          "South/Kerala",
          "West/Madhya Pradesh",
          "West/Maharashtra",
          "Northeast/Meghalaya",
          "East/Odisha",
          "South/Puducherry",
          "North/Punjab",
          "North/Rajasthan",
          "Northeast/Sikkim",
          "South/Tamil Nadu",
          "South/Telangana",
          "Northeast/Tripura",
          "North/Uttar Pradesh",
          "North/Uttarakhand",
          "East/West Bengal",
          "East",
          "North",
          "Northeast",
          "South",
          "West"
         ],
         "labels": [
          "Andhra Pradesh",
          "Assam",
          "Bihar",
          "Chhattisgarh",
          "Delhi",
          "Goa",
          "Gujarat",
          "Haryana",
          "Himachal Pradesh",
          "Jammu & Kashmir",
          "Jharkhand",
          "Karnataka",
          "Kerala",
          "Madhya Pradesh",
          "Maharashtra",
          "Meghalaya",
          "Odisha",
          "Puducherry",
          "Punjab",
          "Rajasthan",
          "Sikkim",
          "Tamil Nadu",
          "Telangana",
          "Tripura",
          "Uttar Pradesh",
          "Uttarakhand",
          "West Bengal",
          "East",
          "North",
          "Northeast",
          "South",
          "West"
         ],
         "name": "",
         "parents": [
          "South",
          "Northeast",
          "East",
          "West",
          "North",
          "West",
          "West",
          "North",
          "North",
          "North",
          "East",
          "South",
          "South",
          "West",
          "West",
          "Northeast",
          "East",
          "South",
          "North",
          "North",
          "Northeast",
          "South",
          "South",
          "Northeast",
          "North",
          "North",
          "East",
          "",
          "",
          "",
          "",
          ""
         ],
         "type": "sunburst",
         "values": [
          86.64,
          48.56,
          194.71,
          78.19,
          184.14000000000001,
          121.67,
          63.76,
          274.77,
          160.65,
          148.3,
          195.39,
          76.67999999999999,
          94.34,
          68.54,
          79.79,
          38.66,
          64.62,
          179.42,
          119.81,
          158.68,
          78.34,
          121.86999999999999,
          68.33,
          250.55,
          97.37,
          111.56,
          101.92,
          556.64,
          1255.28,
          416.11,
          627.28,
          411.95
         ]
        }
       ],
       "layout": {
        "height": 900,
        "legend": {
         "tracegroupgap": 0
        },
        "template": {
         "data": {
          "bar": [
           {
            "error_x": {
             "color": "#2a3f5f"
            },
            "error_y": {
             "color": "#2a3f5f"
            },
            "marker": {
             "line": {
              "color": "#E5ECF6",
              "width": 0.5
             },
             "pattern": {
              "fillmode": "overlay",
              "size": 10,
              "solidity": 0.2
             }
            },
            "type": "bar"
           }
          ],
          "barpolar": [
           {
            "marker": {
             "line": {
              "color": "#E5ECF6",
              "width": 0.5
             },
             "pattern": {
              "fillmode": "overlay",
              "size": 10,
              "solidity": 0.2
             }
            },
            "type": "barpolar"
           }
          ],
          "carpet": [
           {
            "aaxis": {
             "endlinecolor": "#2a3f5f",
             "gridcolor": "white",
             "linecolor": "white",
             "minorgridcolor": "white",
             "startlinecolor": "#2a3f5f"
            },
            "baxis": {
             "endlinecolor": "#2a3f5f",
             "gridcolor": "white",
             "linecolor": "white",
             "minorgridcolor": "white",
             "startlinecolor": "#2a3f5f"
            },
            "type": "carpet"
           }
          ],
          "choropleth": [
           {
            "colorbar": {
             "outlinewidth": 0,
             "ticks": ""
            },
            "type": "choropleth"
           }
          ],
          "contour": [
           {
            "colorbar": {
             "outlinewidth": 0,
             "ticks": ""
            },
            "colorscale": [
             [
              0,
              "#0d0887"
             ],
             [
              0.1111111111111111,
              "#46039f"
             ],
             [
              0.2222222222222222,
              "#7201a8"
             ],
             [
              0.3333333333333333,
              "#9c179e"
             ],
             [
              0.4444444444444444,
              "#bd3786"
             ],
             [
              0.5555555555555556,
              "#d8576b"
             ],
             [
              0.6666666666666666,
              "#ed7953"
             ],
             [
              0.7777777777777778,
              "#fb9f3a"
             ],
             [
              0.8888888888888888,
              "#fdca26"
             ],
             [
              1,
              "#f0f921"
             ]
            ],
            "type": "contour"
           }
          ],
          "contourcarpet": [
           {
            "colorbar": {
             "outlinewidth": 0,
             "ticks": ""
            },
            "type": "contourcarpet"
           }
          ],
          "heatmap": [
           {
            "colorbar": {
             "outlinewidth": 0,
             "ticks": ""
            },
            "colorscale": [
             [
              0,
              "#0d0887"
             ],
             [
              0.1111111111111111,
              "#46039f"
             ],
             [
              0.2222222222222222,
              "#7201a8"
             ],
             [
              0.3333333333333333,
              "#9c179e"
             ],
             [
              0.4444444444444444,
              "#bd3786"
             ],
             [
              0.5555555555555556,
              "#d8576b"
             ],
             [
              0.6666666666666666,
              "#ed7953"
             ],
             [
              0.7777777777777778,
              "#fb9f3a"
             ],
             [
              0.8888888888888888,
              "#fdca26"
             ],
             [
              1,
              "#f0f921"
             ]
            ],
            "type": "heatmap"
           }
          ],
          "heatmapgl": [
           {
            "colorbar": {
             "outlinewidth": 0,
             "ticks": ""
            },
            "colorscale": [
             [
              0,
              "#0d0887"
             ],
             [
              0.1111111111111111,
              "#46039f"
             ],
             [
              0.2222222222222222,
              "#7201a8"
             ],
             [
              0.3333333333333333,
              "#9c179e"
             ],
             [
              0.4444444444444444,
              "#bd3786"
             ],
             [
              0.5555555555555556,
              "#d8576b"
             ],
             [
              0.6666666666666666,
              "#ed7953"
             ],
             [
              0.7777777777777778,
              "#fb9f3a"
             ],
             [
              0.8888888888888888,
              "#fdca26"
             ],
             [
              1,
              "#f0f921"
             ]
            ],
            "type": "heatmapgl"
           }
          ],
          "histogram": [
           {
            "marker": {
             "pattern": {
              "fillmode": "overlay",
              "size": 10,
              "solidity": 0.2
             }
            },
            "type": "histogram"
           }
          ],
          "histogram2d": [
           {
            "colorbar": {
             "outlinewidth": 0,
             "ticks": ""
            },
            "colorscale": [
             [
              0,
              "#0d0887"
             ],
             [
              0.1111111111111111,
              "#46039f"
             ],
             [
              0.2222222222222222,
              "#7201a8"
             ],
             [
              0.3333333333333333,
              "#9c179e"
             ],
             [
              0.4444444444444444,
              "#bd3786"
             ],
             [
              0.5555555555555556,
              "#d8576b"
             ],
             [
              0.6666666666666666,
              "#ed7953"
             ],
             [
              0.7777777777777778,
              "#fb9f3a"
             ],
             [
              0.8888888888888888,
              "#fdca26"
             ],
             [
              1,
              "#f0f921"
             ]
            ],
            "type": "histogram2d"
           }
          ],
          "histogram2dcontour": [
           {
            "colorbar": {
             "outlinewidth": 0,
             "ticks": ""
            },
            "colorscale": [
             [
              0,
              "#0d0887"
             ],
             [
              0.1111111111111111,
              "#46039f"
             ],
             [
              0.2222222222222222,
              "#7201a8"
             ],
             [
              0.3333333333333333,
              "#9c179e"
             ],
             [
              0.4444444444444444,
              "#bd3786"
             ],
             [
              0.5555555555555556,
              "#d8576b"
             ],
             [
              0.6666666666666666,
              "#ed7953"
             ],
             [
              0.7777777777777778,
              "#fb9f3a"
             ],
             [
              0.8888888888888888,
              "#fdca26"
             ],
             [
              1,
              "#f0f921"
             ]
            ],
            "type": "histogram2dcontour"
           }
          ],
          "mesh3d": [
           {
            "colorbar": {
             "outlinewidth": 0,
             "ticks": ""
            },
            "type": "mesh3d"
           }
          ],
          "parcoords": [
           {
            "line": {
             "colorbar": {
              "outlinewidth": 0,
              "ticks": ""
             }
            },
            "type": "parcoords"
           }
          ],
          "pie": [
           {
            "automargin": true,
            "type": "pie"
           }
          ],
          "scatter": [
           {
            "fillpattern": {
             "fillmode": "overlay",
             "size": 10,
             "solidity": 0.2
            },
            "type": "scatter"
           }
          ],
          "scatter3d": [
           {
            "line": {
             "colorbar": {
              "outlinewidth": 0,
              "ticks": ""
             }
            },
            "marker": {
             "colorbar": {
              "outlinewidth": 0,
              "ticks": ""
             }
            },
            "type": "scatter3d"
           }
          ],
          "scattercarpet": [
           {
            "marker": {
             "colorbar": {
              "outlinewidth": 0,
              "ticks": ""
             }
            },
            "type": "scattercarpet"
           }
          ],
          "scattergeo": [
           {
            "marker": {
             "colorbar": {
              "outlinewidth": 0,
              "ticks": ""
             }
            },
            "type": "scattergeo"
           }
          ],
          "scattergl": [
           {
            "marker": {
             "colorbar": {
              "outlinewidth": 0,
              "ticks": ""
             }
            },
            "type": "scattergl"
           }
          ],
          "scattermapbox": [
           {
            "marker": {
             "colorbar": {
              "outlinewidth": 0,
              "ticks": ""
             }
            },
            "type": "scattermapbox"
           }
          ],
          "scatterpolar": [
           {
            "marker": {
             "colorbar": {
              "outlinewidth": 0,
              "ticks": ""
             }
            },
            "type": "scatterpolar"
           }
          ],
          "scatterpolargl": [
           {
            "marker": {
             "colorbar": {
              "outlinewidth": 0,
              "ticks": ""
             }
            },
            "type": "scatterpolargl"
           }
          ],
          "scatterternary": [
           {
            "marker": {
             "colorbar": {
              "outlinewidth": 0,
              "ticks": ""
             }
            },
            "type": "scatterternary"
           }
          ],
          "surface": [
           {
            "colorbar": {
             "outlinewidth": 0,
             "ticks": ""
            },
            "colorscale": [
             [
              0,
              "#0d0887"
             ],
             [
              0.1111111111111111,
              "#46039f"
             ],
             [
              0.2222222222222222,
              "#7201a8"
             ],
             [
              0.3333333333333333,
              "#9c179e"
             ],
             [
              0.4444444444444444,
              "#bd3786"
             ],
             [
              0.5555555555555556,
              "#d8576b"
             ],
             [
              0.6666666666666666,
              "#ed7953"
             ],
             [
              0.7777777777777778,
              "#fb9f3a"
             ],
             [
              0.8888888888888888,
              "#fdca26"
             ],
             [
              1,
              "#f0f921"
             ]
            ],
            "type": "surface"
           }
          ],
          "table": [
           {
            "cells": {
             "fill": {
              "color": "#EBF0F8"
             },
             "line": {
              "color": "white"
             }
            },
            "header": {
             "fill": {
              "color": "#C8D4E3"
             },
             "line": {
              "color": "white"
             }
            },
            "type": "table"
           }
          ]
         },
         "layout": {
          "annotationdefaults": {
           "arrowcolor": "#2a3f5f",
           "arrowhead": 0,
           "arrowwidth": 1
          },
          "autotypenumbers": "strict",
          "coloraxis": {
           "colorbar": {
            "outlinewidth": 0,
            "ticks": ""
           }
          },
          "colorscale": {
           "diverging": [
            [
             0,
             "#8e0152"
            ],
            [
             0.1,
             "#c51b7d"
            ],
            [
             0.2,
             "#de77ae"
            ],
            [
             0.3,
             "#f1b6da"
            ],
            [
             0.4,
             "#fde0ef"
            ],
            [
             0.5,
             "#f7f7f7"
            ],
            [
             0.6,
             "#e6f5d0"
            ],
            [
             0.7,
             "#b8e186"
            ],
            [
             0.8,
             "#7fbc41"
            ],
            [
             0.9,
             "#4d9221"
            ],
            [
             1,
             "#276419"
            ]
           ],
           "sequential": [
            [
             0,
             "#0d0887"
            ],
            [
             0.1111111111111111,
             "#46039f"
            ],
            [
             0.2222222222222222,
             "#7201a8"
            ],
            [
             0.3333333333333333,
             "#9c179e"
            ],
            [
             0.4444444444444444,
             "#bd3786"
            ],
            [
             0.5555555555555556,
             "#d8576b"
            ],
            [
             0.6666666666666666,
             "#ed7953"
            ],
            [
             0.7777777777777778,
             "#fb9f3a"
            ],
            [
             0.8888888888888888,
             "#fdca26"
            ],
            [
             1,
             "#f0f921"
            ]
           ],
           "sequentialminus": [
            [
             0,
             "#0d0887"
            ],
            [
             0.1111111111111111,
             "#46039f"
            ],
            [
             0.2222222222222222,
             "#7201a8"
            ],
            [
             0.3333333333333333,
             "#9c179e"
            ],
            [
             0.4444444444444444,
             "#bd3786"
            ],
            [
             0.5555555555555556,
             "#d8576b"
            ],
            [
             0.6666666666666666,
             "#ed7953"
            ],
            [
             0.7777777777777778,
             "#fb9f3a"
            ],
            [
             0.8888888888888888,
             "#fdca26"
            ],
            [
             1,
             "#f0f921"
            ]
           ]
          },
          "colorway": [
           "#636efa",
           "#EF553B",
           "#00cc96",
           "#ab63fa",
           "#FFA15A",
           "#19d3f3",
           "#FF6692",
           "#B6E880",
           "#FF97FF",
           "#FECB52"
          ],
          "font": {
           "color": "#2a3f5f"
          },
          "geo": {
           "bgcolor": "white",
           "lakecolor": "white",
           "landcolor": "#E5ECF6",
           "showlakes": true,
           "showland": true,
           "subunitcolor": "white"
          },
          "hoverlabel": {
           "align": "left"
          },
          "hovermode": "closest",
          "mapbox": {
           "style": "light"
          },
          "paper_bgcolor": "white",
          "plot_bgcolor": "#E5ECF6",
          "polar": {
           "angularaxis": {
            "gridcolor": "white",
            "linecolor": "white",
            "ticks": ""
           },
           "bgcolor": "#E5ECF6",
           "radialaxis": {
            "gridcolor": "white",
            "linecolor": "white",
            "ticks": ""
           }
          },
          "scene": {
           "xaxis": {
            "backgroundcolor": "#E5ECF6",
            "gridcolor": "white",
            "gridwidth": 2,
            "linecolor": "white",
            "showbackground": true,
            "ticks": "",
            "zerolinecolor": "white"
           },
           "yaxis": {
            "backgroundcolor": "#E5ECF6",
            "gridcolor": "white",
            "gridwidth": 2,
            "linecolor": "white",
            "showbackground": true,
            "ticks": "",
            "zerolinecolor": "white"
           },
           "zaxis": {
            "backgroundcolor": "#E5ECF6",
            "gridcolor": "white",
            "gridwidth": 2,
            "linecolor": "white",
            "showbackground": true,
            "ticks": "",
            "zerolinecolor": "white"
           }
          },
          "shapedefaults": {
           "line": {
            "color": "#2a3f5f"
           }
          },
          "ternary": {
           "aaxis": {
            "gridcolor": "white",
            "linecolor": "white",
            "ticks": ""
           },
           "baxis": {
            "gridcolor": "white",
            "linecolor": "white",
            "ticks": ""
           },
           "bgcolor": "#E5ECF6",
           "caxis": {
            "gridcolor": "white",
            "linecolor": "white",
            "ticks": ""
           }
          },
          "title": {
           "x": 0.05
          },
          "xaxis": {
           "automargin": true,
           "gridcolor": "white",
           "linecolor": "white",
           "ticks": "",
           "title": {
            "standoff": 15
           },
           "zerolinecolor": "white",
           "zerolinewidth": 2
          },
          "yaxis": {
           "automargin": true,
           "gridcolor": "white",
           "linecolor": "white",
           "ticks": "",
           "title": {
            "standoff": 15
           },
           "zerolinecolor": "white",
           "zerolinewidth": 2
          }
         }
        },
        "title": {
         "text": "Rate of unemployment in India"
        },
        "width": 900
       }
      },
      "text/html": [
       "<div>                            <div id=\"0c5ca3e0-7434-4514-86c4-500a9a0f2383\" class=\"plotly-graph-div\" style=\"height:900px; width:900px;\"></div>            <script type=\"text/javascript\">                require([\"plotly\"], function(Plotly) {                    window.PLOTLYENV=window.PLOTLYENV || {};                                    if (document.getElementById(\"0c5ca3e0-7434-4514-86c4-500a9a0f2383\")) {                    Plotly.newPlot(                        \"0c5ca3e0-7434-4514-86c4-500a9a0f2383\",                        [{\"branchvalues\":\"total\",\"domain\":{\"x\":[0.0,1.0],\"y\":[0.0,1.0]},\"hovertemplate\":\"labels=%{label}<br> Estimated Unemployment Rate (%)=%{value}<br>parent=%{parent}<br>id=%{id}<extra></extra>\",\"ids\":[\"South/Andhra Pradesh\",\"Northeast/Assam\",\"East/Bihar\",\"West/Chhattisgarh\",\"North/Delhi\",\"West/Goa\",\"West/Gujarat\",\"North/Haryana\",\"North/Himachal Pradesh\",\"North/Jammu & Kashmir\",\"East/Jharkhand\",\"South/Karnataka\",\"South/Kerala\",\"West/Madhya Pradesh\",\"West/Maharashtra\",\"Northeast/Meghalaya\",\"East/Odisha\",\"South/Puducherry\",\"North/Punjab\",\"North/Rajasthan\",\"Northeast/Sikkim\",\"South/Tamil Nadu\",\"South/Telangana\",\"Northeast/Tripura\",\"North/Uttar Pradesh\",\"North/Uttarakhand\",\"East/West Bengal\",\"East\",\"North\",\"Northeast\",\"South\",\"West\"],\"labels\":[\"Andhra Pradesh\",\"Assam\",\"Bihar\",\"Chhattisgarh\",\"Delhi\",\"Goa\",\"Gujarat\",\"Haryana\",\"Himachal Pradesh\",\"Jammu & Kashmir\",\"Jharkhand\",\"Karnataka\",\"Kerala\",\"Madhya Pradesh\",\"Maharashtra\",\"Meghalaya\",\"Odisha\",\"Puducherry\",\"Punjab\",\"Rajasthan\",\"Sikkim\",\"Tamil Nadu\",\"Telangana\",\"Tripura\",\"Uttar Pradesh\",\"Uttarakhand\",\"West Bengal\",\"East\",\"North\",\"Northeast\",\"South\",\"West\"],\"name\":\"\",\"parents\":[\"South\",\"Northeast\",\"East\",\"West\",\"North\",\"West\",\"West\",\"North\",\"North\",\"North\",\"East\",\"South\",\"South\",\"West\",\"West\",\"Northeast\",\"East\",\"South\",\"North\",\"North\",\"Northeast\",\"South\",\"South\",\"Northeast\",\"North\",\"North\",\"East\",\"\",\"\",\"\",\"\",\"\"],\"values\":[86.64,48.56,194.71,78.19,184.14000000000001,121.67,63.76,274.77,160.65,148.3,195.39,76.67999999999999,94.34,68.54,79.79,38.66,64.62,179.42,119.81,158.68,78.34,121.86999999999999,68.33,250.55,97.37,111.56,101.92,556.64,1255.28,416.11,627.28,411.95],\"type\":\"sunburst\"}],                        {\"template\":{\"data\":{\"histogram2dcontour\":[{\"type\":\"histogram2dcontour\",\"colorbar\":{\"outlinewidth\":0,\"ticks\":\"\"},\"colorscale\":[[0.0,\"#0d0887\"],[0.1111111111111111,\"#46039f\"],[0.2222222222222222,\"#7201a8\"],[0.3333333333333333,\"#9c179e\"],[0.4444444444444444,\"#bd3786\"],[0.5555555555555556,\"#d8576b\"],[0.6666666666666666,\"#ed7953\"],[0.7777777777777778,\"#fb9f3a\"],[0.8888888888888888,\"#fdca26\"],[1.0,\"#f0f921\"]]}],\"choropleth\":[{\"type\":\"choropleth\",\"colorbar\":{\"outlinewidth\":0,\"ticks\":\"\"}}],\"histogram2d\":[{\"type\":\"histogram2d\",\"colorbar\":{\"outlinewidth\":0,\"ticks\":\"\"},\"colorscale\":[[0.0,\"#0d0887\"],[0.1111111111111111,\"#46039f\"],[0.2222222222222222,\"#7201a8\"],[0.3333333333333333,\"#9c179e\"],[0.4444444444444444,\"#bd3786\"],[0.5555555555555556,\"#d8576b\"],[0.6666666666666666,\"#ed7953\"],[0.7777777777777778,\"#fb9f3a\"],[0.8888888888888888,\"#fdca26\"],[1.0,\"#f0f921\"]]}],\"heatmap\":[{\"type\":\"heatmap\",\"colorbar\":{\"outlinewidth\":0,\"ticks\":\"\"},\"colorscale\":[[0.0,\"#0d0887\"],[0.1111111111111111,\"#46039f\"],[0.2222222222222222,\"#7201a8\"],[0.3333333333333333,\"#9c179e\"],[0.4444444444444444,\"#bd3786\"],[0.5555555555555556,\"#d8576b\"],[0.6666666666666666,\"#ed7953\"],[0.7777777777777778,\"#fb9f3a\"],[0.8888888888888888,\"#fdca26\"],[1.0,\"#f0f921\"]]}],\"heatmapgl\":[{\"type\":\"heatmapgl\",\"colorbar\":{\"outlinewidth\":0,\"ticks\":\"\"},\"colorscale\":[[0.0,\"#0d0887\"],[0.1111111111111111,\"#46039f\"],[0.2222222222222222,\"#7201a8\"],[0.3333333333333333,\"#9c179e\"],[0.4444444444444444,\"#bd3786\"],[0.5555555555555556,\"#d8576b\"],[0.6666666666666666,\"#ed7953\"],[0.7777777777777778,\"#fb9f3a\"],[0.8888888888888888,\"#fdca26\"],[1.0,\"#f0f921\"]]}],\"contourcarpet\":[{\"type\":\"contourcarpet\",\"colorbar\":{\"outlinewidth\":0,\"ticks\":\"\"}}],\"contour\":[{\"type\":\"contour\",\"colorbar\":{\"outlinewidth\":0,\"ticks\":\"\"},\"colorscale\":[[0.0,\"#0d0887\"],[0.1111111111111111,\"#46039f\"],[0.2222222222222222,\"#7201a8\"],[0.3333333333333333,\"#9c179e\"],[0.4444444444444444,\"#bd3786\"],[0.5555555555555556,\"#d8576b\"],[0.6666666666666666,\"#ed7953\"],[0.7777777777777778,\"#fb9f3a\"],[0.8888888888888888,\"#fdca26\"],[1.0,\"#f0f921\"]]}],\"surface\":[{\"type\":\"surface\",\"colorbar\":{\"outlinewidth\":0,\"ticks\":\"\"},\"colorscale\":[[0.0,\"#0d0887\"],[0.1111111111111111,\"#46039f\"],[0.2222222222222222,\"#7201a8\"],[0.3333333333333333,\"#9c179e\"],[0.4444444444444444,\"#bd3786\"],[0.5555555555555556,\"#d8576b\"],[0.6666666666666666,\"#ed7953\"],[0.7777777777777778,\"#fb9f3a\"],[0.8888888888888888,\"#fdca26\"],[1.0,\"#f0f921\"]]}],\"mesh3d\":[{\"type\":\"mesh3d\",\"colorbar\":{\"outlinewidth\":0,\"ticks\":\"\"}}],\"scatter\":[{\"fillpattern\":{\"fillmode\":\"overlay\",\"size\":10,\"solidity\":0.2},\"type\":\"scatter\"}],\"parcoords\":[{\"type\":\"parcoords\",\"line\":{\"colorbar\":{\"outlinewidth\":0,\"ticks\":\"\"}}}],\"scatterpolargl\":[{\"type\":\"scatterpolargl\",\"marker\":{\"colorbar\":{\"outlinewidth\":0,\"ticks\":\"\"}}}],\"bar\":[{\"error_x\":{\"color\":\"#2a3f5f\"},\"error_y\":{\"color\":\"#2a3f5f\"},\"marker\":{\"line\":{\"color\":\"#E5ECF6\",\"width\":0.5},\"pattern\":{\"fillmode\":\"overlay\",\"size\":10,\"solidity\":0.2}},\"type\":\"bar\"}],\"scattergeo\":[{\"type\":\"scattergeo\",\"marker\":{\"colorbar\":{\"outlinewidth\":0,\"ticks\":\"\"}}}],\"scatterpolar\":[{\"type\":\"scatterpolar\",\"marker\":{\"colorbar\":{\"outlinewidth\":0,\"ticks\":\"\"}}}],\"histogram\":[{\"marker\":{\"pattern\":{\"fillmode\":\"overlay\",\"size\":10,\"solidity\":0.2}},\"type\":\"histogram\"}],\"scattergl\":[{\"type\":\"scattergl\",\"marker\":{\"colorbar\":{\"outlinewidth\":0,\"ticks\":\"\"}}}],\"scatter3d\":[{\"type\":\"scatter3d\",\"line\":{\"colorbar\":{\"outlinewidth\":0,\"ticks\":\"\"}},\"marker\":{\"colorbar\":{\"outlinewidth\":0,\"ticks\":\"\"}}}],\"scattermapbox\":[{\"type\":\"scattermapbox\",\"marker\":{\"colorbar\":{\"outlinewidth\":0,\"ticks\":\"\"}}}],\"scatterternary\":[{\"type\":\"scatterternary\",\"marker\":{\"colorbar\":{\"outlinewidth\":0,\"ticks\":\"\"}}}],\"scattercarpet\":[{\"type\":\"scattercarpet\",\"marker\":{\"colorbar\":{\"outlinewidth\":0,\"ticks\":\"\"}}}],\"carpet\":[{\"aaxis\":{\"endlinecolor\":\"#2a3f5f\",\"gridcolor\":\"white\",\"linecolor\":\"white\",\"minorgridcolor\":\"white\",\"startlinecolor\":\"#2a3f5f\"},\"baxis\":{\"endlinecolor\":\"#2a3f5f\",\"gridcolor\":\"white\",\"linecolor\":\"white\",\"minorgridcolor\":\"white\",\"startlinecolor\":\"#2a3f5f\"},\"type\":\"carpet\"}],\"table\":[{\"cells\":{\"fill\":{\"color\":\"#EBF0F8\"},\"line\":{\"color\":\"white\"}},\"header\":{\"fill\":{\"color\":\"#C8D4E3\"},\"line\":{\"color\":\"white\"}},\"type\":\"table\"}],\"barpolar\":[{\"marker\":{\"line\":{\"color\":\"#E5ECF6\",\"width\":0.5},\"pattern\":{\"fillmode\":\"overlay\",\"size\":10,\"solidity\":0.2}},\"type\":\"barpolar\"}],\"pie\":[{\"automargin\":true,\"type\":\"pie\"}]},\"layout\":{\"autotypenumbers\":\"strict\",\"colorway\":[\"#636efa\",\"#EF553B\",\"#00cc96\",\"#ab63fa\",\"#FFA15A\",\"#19d3f3\",\"#FF6692\",\"#B6E880\",\"#FF97FF\",\"#FECB52\"],\"font\":{\"color\":\"#2a3f5f\"},\"hovermode\":\"closest\",\"hoverlabel\":{\"align\":\"left\"},\"paper_bgcolor\":\"white\",\"plot_bgcolor\":\"#E5ECF6\",\"polar\":{\"bgcolor\":\"#E5ECF6\",\"angularaxis\":{\"gridcolor\":\"white\",\"linecolor\":\"white\",\"ticks\":\"\"},\"radialaxis\":{\"gridcolor\":\"white\",\"linecolor\":\"white\",\"ticks\":\"\"}},\"ternary\":{\"bgcolor\":\"#E5ECF6\",\"aaxis\":{\"gridcolor\":\"white\",\"linecolor\":\"white\",\"ticks\":\"\"},\"baxis\":{\"gridcolor\":\"white\",\"linecolor\":\"white\",\"ticks\":\"\"},\"caxis\":{\"gridcolor\":\"white\",\"linecolor\":\"white\",\"ticks\":\"\"}},\"coloraxis\":{\"colorbar\":{\"outlinewidth\":0,\"ticks\":\"\"}},\"colorscale\":{\"sequential\":[[0.0,\"#0d0887\"],[0.1111111111111111,\"#46039f\"],[0.2222222222222222,\"#7201a8\"],[0.3333333333333333,\"#9c179e\"],[0.4444444444444444,\"#bd3786\"],[0.5555555555555556,\"#d8576b\"],[0.6666666666666666,\"#ed7953\"],[0.7777777777777778,\"#fb9f3a\"],[0.8888888888888888,\"#fdca26\"],[1.0,\"#f0f921\"]],\"sequentialminus\":[[0.0,\"#0d0887\"],[0.1111111111111111,\"#46039f\"],[0.2222222222222222,\"#7201a8\"],[0.3333333333333333,\"#9c179e\"],[0.4444444444444444,\"#bd3786\"],[0.5555555555555556,\"#d8576b\"],[0.6666666666666666,\"#ed7953\"],[0.7777777777777778,\"#fb9f3a\"],[0.8888888888888888,\"#fdca26\"],[1.0,\"#f0f921\"]],\"diverging\":[[0,\"#8e0152\"],[0.1,\"#c51b7d\"],[0.2,\"#de77ae\"],[0.3,\"#f1b6da\"],[0.4,\"#fde0ef\"],[0.5,\"#f7f7f7\"],[0.6,\"#e6f5d0\"],[0.7,\"#b8e186\"],[0.8,\"#7fbc41\"],[0.9,\"#4d9221\"],[1,\"#276419\"]]},\"xaxis\":{\"gridcolor\":\"white\",\"linecolor\":\"white\",\"ticks\":\"\",\"title\":{\"standoff\":15},\"zerolinecolor\":\"white\",\"automargin\":true,\"zerolinewidth\":2},\"yaxis\":{\"gridcolor\":\"white\",\"linecolor\":\"white\",\"ticks\":\"\",\"title\":{\"standoff\":15},\"zerolinecolor\":\"white\",\"automargin\":true,\"zerolinewidth\":2},\"scene\":{\"xaxis\":{\"backgroundcolor\":\"#E5ECF6\",\"gridcolor\":\"white\",\"linecolor\":\"white\",\"showbackground\":true,\"ticks\":\"\",\"zerolinecolor\":\"white\",\"gridwidth\":2},\"yaxis\":{\"backgroundcolor\":\"#E5ECF6\",\"gridcolor\":\"white\",\"linecolor\":\"white\",\"showbackground\":true,\"ticks\":\"\",\"zerolinecolor\":\"white\",\"gridwidth\":2},\"zaxis\":{\"backgroundcolor\":\"#E5ECF6\",\"gridcolor\":\"white\",\"linecolor\":\"white\",\"showbackground\":true,\"ticks\":\"\",\"zerolinecolor\":\"white\",\"gridwidth\":2}},\"shapedefaults\":{\"line\":{\"color\":\"#2a3f5f\"}},\"annotationdefaults\":{\"arrowcolor\":\"#2a3f5f\",\"arrowhead\":0,\"arrowwidth\":1},\"geo\":{\"bgcolor\":\"white\",\"landcolor\":\"#E5ECF6\",\"subunitcolor\":\"white\",\"showland\":true,\"showlakes\":true,\"lakecolor\":\"white\"},\"title\":{\"x\":0.05},\"mapbox\":{\"style\":\"light\"}}},\"legend\":{\"tracegroupgap\":0},\"title\":{\"text\":\"Rate of unemployment in India\"},\"height\":900,\"width\":900},                        {\"responsive\": true}                    ).then(function(){\n",
       "                            \n",
       "var gd = document.getElementById('0c5ca3e0-7434-4514-86c4-500a9a0f2383');\n",
       "var x = new MutationObserver(function (mutations, observer) {{\n",
       "        var display = window.getComputedStyle(gd).display;\n",
       "        if (!display || display === 'none') {{\n",
       "            console.log([gd, 'removed!']);\n",
       "            Plotly.purge(gd);\n",
       "            observer.disconnect();\n",
       "        }}\n",
       "}});\n",
       "\n",
       "// Listen for the removal of the full notebook cells\n",
       "var notebookContainer = gd.closest('#notebook-container');\n",
       "if (notebookContainer) {{\n",
       "    x.observe(notebookContainer, {childList: true});\n",
       "}}\n",
       "\n",
       "// Listen for the clearing of the current output cell\n",
       "var outputEl = gd.closest('.output');\n",
       "if (outputEl) {{\n",
       "    x.observe(outputEl, {childList: true});\n",
       "}}\n",
       "\n",
       "                        })                };                });            </script>        </div>"
      ]
     },
     "metadata": {},
     "output_type": "display_data"
    }
   ],
   "source": [
    "unemp_data= data[[\"Region\", \"Region.1\", ' Estimated Unemployment Rate (%)']]\n",
    "figure= px.sunburst(unemp_data, path=[\"Region.1\", \"Region\"],values=' Estimated Unemployment Rate (%)',width=900, height=900, color_continuous_scale=\"Rdy1Gn\",title=\"Rate of unemployment in India\")\n",
    "figure.show()"
   ]
  },
  {
   "cell_type": "code",
   "execution_count": null,
   "id": "179b2ef7",
   "metadata": {},
   "outputs": [],
   "source": []
  }
 ],
 "metadata": {
  "kernelspec": {
   "display_name": "Python 3 (ipykernel)",
   "language": "python",
   "name": "python3"
  },
  "language_info": {
   "codemirror_mode": {
    "name": "ipython",
    "version": 3
   },
   "file_extension": ".py",
   "mimetype": "text/x-python",
   "name": "python",
   "nbconvert_exporter": "python",
   "pygments_lexer": "ipython3",
   "version": "3.10.9"
  }
 },
 "nbformat": 4,
 "nbformat_minor": 5
}
